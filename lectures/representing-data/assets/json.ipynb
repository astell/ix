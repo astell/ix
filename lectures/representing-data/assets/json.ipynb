{
 "cells": [
  {
   "cell_type": "code",
   "execution_count": 5,
   "metadata": {
    "collapsed": true
   },
   "outputs": [],
   "source": [
    "from urllib2 import urlopen\n",
    "import json"
   ]
  },
  {
   "cell_type": "code",
   "execution_count": 6,
   "metadata": {
    "collapsed": true
   },
   "outputs": [],
   "source": [
    "url = 'https://data.melbourne.vic.gov.au/api/views/ru3z-44we/rows.json?accessType=DOWNLOAD'"
   ]
  },
  {
   "cell_type": "code",
   "execution_count": 7,
   "metadata": {
    "collapsed": false
   },
   "outputs": [],
   "source": [
    "stream = urlopen(url)"
   ]
  },
  {
   "cell_type": "code",
   "execution_count": 8,
   "metadata": {
    "collapsed": false
   },
   "outputs": [],
   "source": [
    "data = json.load(stream)"
   ]
  },
  {
   "cell_type": "code",
   "execution_count": 9,
   "metadata": {
    "collapsed": false
   },
   "outputs": [
    {
     "data": {
      "text/plain": [
       "[u'-37.7789369874241',\n",
       " u'144.960466615621',\n",
       " u'Public Toilet - Toilet 127 - Princes Park Royal Parade (near Park Street)']"
      ]
     },
     "execution_count": 9,
     "metadata": {},
     "output_type": "execute_result"
    }
   ],
   "source": [
    "data[\"data\"][0][8:11]"
   ]
  },
  {
   "cell_type": "code",
   "execution_count": 10,
   "metadata": {
    "collapsed": false
   },
   "outputs": [
    {
     "name": "stdout",
     "output_type": "stream",
     "text": [
      "[u'-37.7789369874241', u'144.960466615621', u'Public Toilet - Toilet 127 - Princes Park Royal Parade (near Park Street)']\n",
      "[u'-37.7855983874526', u'144.963035360326', u'Public Toilet - Toilet 128 - Princes Park South Playground (Princes Park Drive)']\n",
      "[u'-37.7887067441958', u'144.961882529557', u'Public Toilet - Princes Park - Crawford Oval (Male)']\n",
      "[u'-37.7889036431781', u'144.961888904119', u'Public Toilet - Princes Park - Crawford Oval (Female)']\n",
      "[u'-37.7830324841769', u'144.941856352994', u'Public Toilet - Toilet 120 - Royal Park, Wetland (off Oak Street)']\n",
      "[u'-37.821758603308', u'144.947383418678', u'Public Toilet - Toilet 182 - Docklands Park South - 25 Harbour Esplanade']\n",
      "[u'-37.8068057673802', u'144.962648500306', u'Public Toilet - Toilet 146 - Swanston Street (Opposite 475-511 Swanston Street)']\n",
      "[u'-37.8203552728411', u'144.973312908874', u'Public Toilet - Toilet 112 - Alexandra Gardens (Riverslide Skate Park)']\n",
      "[u'-37.8210047797754', u'144.97593322374', u'Public Toilet - Toilet 111 - Birrarung Marr Speakers Corner']\n",
      "[u'-37.8095460463623', u'144.969407118711', u'Public Toilet - Toilet 12 - Exhibition Street (Opposite 242 Exhibition Street)']\n",
      "[u'-37.8212482762399', u'144.934526510629', u\"Public Toilet - Yarra's Edge (160-186 Lorimer Street, No 19 Berth)\"]\n",
      "[u'-37.807863995793', u'144.957947751275', u'Public Toilet - Queen Victoria Market (465 Queen Street)']\n",
      "[u'-37.8020762942075', u'144.966424039887', u'Public Toilet - Toilet 178 -  Argyle Place North (Opposite 4 Argyle Place North)']\n",
      "[u'-37.82172068167', u'144.95557809314', u'Public Toilet - Toilet 169 - Batman Park (2A Spencer Street)']\n",
      "[u'-37.8027118245545', u'144.962268126958', u'Public Toilet - Toilet 179 - Lincoln Square (138-142 Bouverie Street)']\n",
      "[u'-37.788488821143', u'144.923563721974', u'Public Toilet - Newmarket Reserve (26 Smithfield Road)']\n",
      "[u'-37.8233108344353', u'144.941827606655', u'Public Toilet - Toilet 181 - Point Park (Point Park Crescent)']\n",
      "[u'-37.8179031970562', u'144.966264255264', u'Public Toilet - Toilet 41 - Flinders Street (No 245 Flinders Street Station)']\n",
      "[u'-37.8158381650176', u'144.961062073003', u'Public Toilet - Toilet 43 - Queen Street (opposite 113 Queen Street)']\n",
      "[u'-37.8301325375481', u'144.965012228352', u'Public Toilet - Toilet 105 -Sturt Street Reserve (280 Sturt Street)']\n",
      "[u'-37.7901744104124', u'144.943669050969', u'Public Toilet - Toilet 131 - Royal Park (Flemington Rd - Near North Park Tennis Club)']\n",
      "[u'-37.7981254615061', u'144.926424667562', u'Public Toilet - Toilet 162 - JJ Holland Park (Opposite, 48 Altona Street)']\n",
      "[u'-37.8269157492345', u'144.974647783879', u'Public Toilet - Toilet 106 - Kings Domain Government House Drive']\n",
      "[u'-37.8185988722939', u'144.971059568268', u'Public Toilet - Toilet 48 - Birrarung Marr (Opposite Artplay)']\n",
      "[u'-37.813245433602', u'144.966896589681', u'Public Toilet - Toilet 46 - Bourke Street (opposite 225 Bourke Street)']\n",
      "[u'-37.8026455549851', u'144.969821287215', u'Public Toilet - Toilet 138 - Carlton Gardens North (Opposite 199 Rathdowne Street)']\n",
      "[u'-37.81384641665', u'144.971374094721', u'Public Toilet - Toilet 13 - Exhibition Street (Opposite 77 Exhibition Street)']\n",
      "[u'-37.8143455223924', u'144.955117946438', u'Public Toilet - Toilet 1 - Lonsdale Street (Opposite 581 Lonsdale Street)']\n",
      "[u'-37.8174698920964', u'144.960254335288', u'Public Toilet - Toilet 4 - Market Street (Opposite 74 Market Street)']\n",
      "[u'-37.8089420684734', u'144.965648845523', u'Public Toilet - Toilet 7 - Latrobe Street (Adjacent 120 La Trobe Street)']\n",
      "[u'-37.8159898259999', u'144.972798365769', u'Public Toilet - Toilet 14 - Flinders Street (27 Flinders Street)']\n",
      "[u'-37.8068212920185', u'144.958747004641', u'Public Toilet - Queen Victoria Market - (Meat Hall / \"H\" Shed)']\n",
      "[u'-37.7937322912824', u'144.930351861633', u'Public Toilet - Toilet 177 - Bellair Street (Opposite 180 Bellair Street)']\n",
      "[u'-37.8339382663373', u'144.981784046351', u'Public Toilet - Toilet 103 - Kings Domain South (Opposite 169 Domain Road)']\n",
      "[u'-37.798709597016', u'144.967593880097', u'Public Toilet - Toilet 137 - Faraday Street (Opposite 208-212 Faraday Street)']\n",
      "[u'-37.8094520289425', u'144.973076955637', u'Public Toilet - Toilet 124 - Nicholson Street (1A Nicholson Street)']\n",
      "[u'-37.8194061141385', u'144.961276831218', u'Public Toilet - Toilet 3 - Flinders Street (399 Flinders Street)']\n",
      "[u'-37.8039946349673', u'144.959090667569', u'Public Toilet - Toilet 140 - Queensberry Street (Opposite 286 Queensberry Street)']\n",
      "[u'-37.8308574866495', u'144.975169412941', u'Public Toilet - Toilet 104 - Kings Domain South (off Birdwood Avenue)']\n",
      "[u'-37.8046418040906', u'144.962850161832', u'Public Toilet - Toilet 142 - Queensberry Street (Adjacent 179 Queensberry Street)']\n",
      "[u'-37.7930116787258', u'144.973994897618', u'Public Toilet - Toilet 133- Canning Street Reserve (49 Princes Street)']\n",
      "[u'-37.8129330992456', u'144.960012146952', u'Public Toilet - Toilet 36 - Lonsdale Street (Opposite 424 Lonsdale Street)']\n",
      "[u'-37.8100356799286', u'144.969902463305', u'Public Toilet - Toilet 11 - Lonsdale Street (Opposite 88 Lonsdale Street)']\n",
      "[u'-37.8030778664123', u'144.94986517957', u'Public Toilet - Toilet 170 - Queensberry Street (Opposite 530 Queensberry Street)']\n",
      "[u'-37.8082354510726', u'144.960189829311', u'Public Toilet - Toilet 34 - Franklin Street (Opposite 80 Franklin Street)']\n",
      "[u'-37.813439207944', u'144.962922726451', u'Public Toilet - Toilet 6 - Elizabeth Street (Toilet Adjacent 200 Elizabeth Street)']\n",
      "[u'-37.8138377921763', u'144.96309721024', u'Public Toilet - Toilet 6 - Elizabeth Street (Toilet Adjacent 200 Elizabeth Street)']\n",
      "[u'-37.8228915985886', u'144.975280957334', u'Public Toilet - Toilet 109 - Kings Domain Myer Music Bowl Rear of']\n",
      "[u'-37.8062589330187', u'144.9692027022', u'Public Toilet - Toilet 145 - Carlton Gardens South (Opposite 39 Rathdowne Street)']\n",
      "[u'-37.812032055028', u'144.983079680553', u'Public Toilet - Toilet 119 - Fitzroy Gardens Toilets (150 Clarendon Street)']\n",
      "[u'-37.8152157661969', u'144.966943285103', u'Public Toilet - Town Hall Melbourne (200 Collins Street)']\n",
      "[u'-37.8063796189705', u'144.959057791589', u'Public Toilet - Queen Victoria Market (Food Court - 65-81 Victoria Street)']\n",
      "[u'-37.8143583110807', u'144.94168216712', u'Public Toilet - Saint Mangos Lane, The Palladio (New Quay)']\n",
      "[u'-37.8452065630094', u'144.982614431301', u'Public Toilet - Toilet 42 - Fawkner Park, Opposite 55 Commercial Road']\n",
      "[u'-37.8197959757403', u'144.937665405306', u'Public Toilet - Victoria Harbour, Shed 3 (North Wharf Road)']\n",
      "[u'-37.8061214990778', u'144.956538442683', u'Public Toilet - Queen Victoria Market (153 Victoria Street)']\n",
      "[u'-37.8382528412498', u'144.984389219942', u'Public Toilet - Toilet 44 - Fawkner Park, Opposite 150W Toorak Road']\n",
      "[u'-37.8401476929651', u'144.981383087537', u'Public Toilet - Toilet 102 - Fawkner Park, North Pavilion (Male)']\n",
      "[u'-37.8400177932632', u'144.981227014622', u'Public Toilet - Toilet 102 - Fawkner Park, North Pavilion (Female)']\n",
      "[u'-37.8152828122124', u'144.97759328333', u'Public Toilet - Toilet 118 - Fitzroy Gardens (2 Lansdowne Street)']\n",
      "[u'-37.7967989980576', u'144.951966651265', u'Public Toilet - Toilet 136 - Ievers Reserve - Flemington Road']\n",
      "[u'-37.8203421285863', u'144.964219727995', u'Public Toilet - Toilet 172 - Southbank Promenade (opposite Esso House)']\n",
      "[u'-37.8276430461653', u'144.981811660759', u'Public Toilet - Toilet 107 - Alexandra Park']\n",
      "[u'-37.8089204753475', u'144.955043309203', u'Public Toilet - Toilet 154 - Flagstaff Gardens (cnr William & Dudley)']\n",
      "[u'-37.7980640238869', u'144.921105843921', u'Public Toilet - Toilet 173 - JJ Holland Park, Skate Park (113 Kensington Road)']\n",
      "[u'-37.8109423280963', u'144.986858739378', u'Public Toilet - Toilet 117 - Powlett Reserve (Opposite 128 Albert Street)']\n",
      "[u'-37.786221248397', u'144.955000875873', u'Public Toilet - Royal Park Brens Pavilion']\n",
      "[u'-37.8122407755871', u'144.973925558866', u'Public Toilet - Toilet 125 - Gordon Reserve (74-108 Spring Street)']\n",
      "[u'-37.792511464487', u'144.956851720841', u'Public Toilet - Toilet 100 - Royal Park - Native Garden (off Gatehouse Street)']\n",
      "[u'-37.7818713178669', u'144.956142528948', u'Public Toilet - Royal Park Golf Course Club House ']\n",
      "[u'-37.8134184350089', u'144.977467007448', u'Public Toilet - Toilet 122 - Treasury Gardens (Store and Toilet)']\n",
      "[u'-37.8229482886777', u'144.970985681798', u'Public Toilet - Toilet 110 - Queen Victoria Gardens (Linlithgow Avenue)']\n",
      "[u'-37.8189244556993', u'144.93423851179', u'Public Toilet - Victoria Harbour, Shed 2 (North Wharf Road)']\n",
      "[u'-37.7879048271477', u'144.959494790772', u'Public Toilet - Toilet 52 - Princes Park (Adjacent Southern Sports Pavilion)']\n"
     ]
    }
   ],
   "source": [
    "for row in data[\"data\"]:\n",
    "    print row[8:11]"
   ]
  },
  {
   "cell_type": "code",
   "execution_count": 11,
   "metadata": {
    "collapsed": false
   },
   "outputs": [
    {
     "data": {
      "text/plain": [
       "74"
      ]
     },
     "execution_count": 11,
     "metadata": {},
     "output_type": "execute_result"
    }
   ],
   "source": [
    "len(data[\"data\"])"
   ]
  },
  {
   "cell_type": "code",
   "execution_count": 12,
   "metadata": {
    "collapsed": false
   },
   "outputs": [
    {
     "data": {
      "text/plain": [
       "dict"
      ]
     },
     "execution_count": 12,
     "metadata": {},
     "output_type": "execute_result"
    }
   ],
   "source": [
    "type(data)"
   ]
  },
  {
   "cell_type": "code",
   "execution_count": 13,
   "metadata": {
    "collapsed": false
   },
   "outputs": [
    {
     "data": {
      "text/plain": [
       "list"
      ]
     },
     "execution_count": 13,
     "metadata": {},
     "output_type": "execute_result"
    }
   ],
   "source": [
    "type(data[\"data\"])"
   ]
  },
  {
   "cell_type": "code",
   "execution_count": null,
   "metadata": {
    "collapsed": true
   },
   "outputs": [],
   "source": []
  }
 ],
 "metadata": {
  "kernelspec": {
   "display_name": "Python 2",
   "language": "python",
   "name": "python2"
  },
  "language_info": {
   "codemirror_mode": {
    "name": "ipython",
    "version": 2
   },
   "file_extension": ".py",
   "mimetype": "text/x-python",
   "name": "python",
   "nbconvert_exporter": "python",
   "pygments_lexer": "ipython2",
   "version": "2.7.11"
  }
 },
 "nbformat": 4,
 "nbformat_minor": 0
}
