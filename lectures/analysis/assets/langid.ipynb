{
 "cells": [
  {
   "cell_type": "code",
   "execution_count": 69,
   "metadata": {
    "collapsed": true
   },
   "outputs": [],
   "source": [
    "from collections import defaultdict"
   ]
  },
  {
   "cell_type": "code",
   "execution_count": 70,
   "metadata": {
    "collapsed": true
   },
   "outputs": [],
   "source": [
    "languages = [\n",
    "    \"English-Latin1\",\n",
    "    \"Italian-Latin1\",\n",
    "    \"German_Deutsch-Latin1\",\n",
    "    \"Spanish-Latin1\", \n",
    "    \"Chinese_Mandarin-GB2312\",\n",
    "    \"Ukrainian-UTF8\" ]"
   ]
  },
  {
   "cell_type": "code",
   "execution_count": 71,
   "metadata": {
    "collapsed": false
   },
   "outputs": [],
   "source": [
    "from nltk.corpus import udhr"
   ]
  },
  {
   "cell_type": "code",
   "execution_count": 72,
   "metadata": {
    "collapsed": false
   },
   "outputs": [
    {
     "data": {
      "text/plain": [
       "u'\\u4e16\\u754c\\u4eba\\u6743\\u5ba3\\u8a00\\n\\u8054\\u5408\\u56fd\\u5927\\u4f1a\\u4e00\\u4e5d\\u56db\\u516b\\u5e74\\u5341\\u4e8c\\u6708\\u5341\\u65e5\\u7b2c217A(III)\\u53f7\\u51b3\\u8bae\\u901a\\u8fc7\\u5e76\\u9881\\u5e03\\n\\n1948 \\u5e74 12 \\u6708 10 \\u65e5\\uff0c \\u8054 \\u5408 \\u56fd \\u5927 \\u4f1a \\u901a \\u8fc7 \\u5e76 \\u9881 \\u5e03\\u300a \\u4e16 \\u754c \\u4eba \\u6743 \\u5ba3 \\u8a00\\u300b\\u3002 \\u8fd9 \\u4e00 \\u5177'"
      ]
     },
     "execution_count": 72,
     "metadata": {},
     "output_type": "execute_result"
    }
   ],
   "source": [
    "udhr.raw('Chinese_Mandarin-GB2312')[:100]"
   ]
  },
  {
   "cell_type": "code",
   "execution_count": 73,
   "metadata": {
    "collapsed": false
   },
   "outputs": [],
   "source": [
    "# Kendall tau distance\n",
    "def distance(cfr1, cfr2, chars):\n",
    "    total = 0\n",
    "    for c1 in chars:\n",
    "        for c2 in chars:          \n",
    "            if (c1 in cfr1) and (c2 in cfr1) and (c1 in cfr2) and (c2 in cfr2):\n",
    "                if ((cfr1[c1] < cfr1[c2]) != (cfr2[c1] < cfr2[c2])):\n",
    "                    total += 1\n",
    "            else:\n",
    "                total += 1    \n",
    "    return total\n",
    "\n",
    "def text_filter(text):\n",
    "    for ch in \" \\n\\t\\r.,:;[]()\\\\/\\\"0123456789~!`?@#$%^&*_-=-\":\n",
    "        text = text.replace(ch, \"\")\n",
    "    return text\n",
    "\n",
    "def gen_ranked_cfd(sorted_cfd):\n",
    "    chars_freq_rank = defaultdict(int)    \n",
    "    for rank in range(len(sorted_cfd)):\n",
    "        char = sorted_cfd[rank]\n",
    "        chars_freq_rank[char] = rank + 1\n",
    "    return chars_freq_rank\n",
    "\n",
    "def gen_sorted_cfd(cfd):\n",
    "    sorted_cfd = sorted(cfd, key=cfd.get, reverse=True)\n",
    "    return sorted_cfd\n",
    "\n",
    "def gen_cfd(text):\n",
    "    chars_freq_dist = defaultdict(int)\n",
    "    for char in text:\n",
    "        chars_freq_dist[char] += 1\n",
    "    return chars_freq_dist\n",
    "\n",
    "def guess(text):\n",
    "    text = text_filter(text)\n",
    "    mystery_cfd = gen_cfd(text.lower().strip())\n",
    "    mystery_cfs = gen_sorted_cfd(mystery_cfd)\n",
    "    mystery_cfr = gen_ranked_cfd(mystery_cfs)\n",
    "    min_dist = 2**16\n",
    "    candidate_lang = \"\"\n",
    "    for lang in languages:\n",
    "        dist = distance(mystery_cfr, cfr[lang], chars)   \n",
    "        if dist < min_dist:\n",
    "            min_dist = dist\n",
    "            candidate_lang = lang\n",
    "    return candidate_lang"
   ]
  },
  {
   "cell_type": "code",
   "execution_count": 11,
   "metadata": {
    "collapsed": true
   },
   "outputs": [],
   "source": [
    "cfd = {} # character frequency distribution\n",
    "cfs = {} # sorted character based on frequency distribution\n",
    "cfr = {} # character frequency distribution rankings\n",
    "\n",
    "chars = set() # union of all top n characters\n",
    "n = 30 # number of top n chars"
   ]
  },
  {
   "cell_type": "code",
   "execution_count": 66,
   "metadata": {
    "collapsed": false
   },
   "outputs": [
    {
     "name": "stderr",
     "output_type": "stream",
     "text": [
      "/Users/dreamind/anaconda/lib/python2.7/site-packages/ipykernel/__main__.py:7: UnicodeWarning: Unicode equal comparison failed to convert both arguments to Unicode - interpreting them as being unequal\n"
     ]
    }
   ],
   "source": [
    "for lang in languages:\n",
    "    udhr_text = text_filter(udhr.raw(lang).lower())\n",
    "    cfd[lang] = gen_cfd(udhr_text)\n",
    "    cfs[lang] = gen_sorted_cfd(cfd[lang])\n",
    "    cfr[lang] = gen_ranked_cfd(cfs[lang])\n",
    "    top_n_chars = cfs[lang][:n]\n",
    "    chars = chars.union(set(top_n_chars))"
   ]
  },
  {
   "cell_type": "code",
   "execution_count": 56,
   "metadata": {
    "collapsed": false
   },
   "outputs": [
    {
     "data": {
      "text/plain": [
       "{u'a': 7,\n",
       " u'b': 17,\n",
       " u'c': 13,\n",
       " u'd': 6,\n",
       " u'e': 1,\n",
       " u'f': 14,\n",
       " u'g': 12,\n",
       " u'h': 8,\n",
       " u'i': 4,\n",
       " u'j': 24,\n",
       " u'k': 18,\n",
       " u'l': 11,\n",
       " u'm': 16,\n",
       " u'n': 2,\n",
       " u'o': 15,\n",
       " u'p': 25,\n",
       " u'r': 3,\n",
       " u's': 9,\n",
       " u't': 5,\n",
       " u'u': 10,\n",
       " u'v': 21,\n",
       " u'w': 20,\n",
       " u'x': 29,\n",
       " u'y': 28,\n",
       " u'z': 19,\n",
       " u'\\xdf': 27,\n",
       " u'\\xe4': 22,\n",
       " u'\\xf6': 26,\n",
       " u'\\xfc': 23}"
      ]
     },
     "execution_count": 56,
     "metadata": {},
     "output_type": "execute_result"
    }
   ],
   "source": [
    "dict(cfr[languages[2]])"
   ]
  },
  {
   "cell_type": "code",
   "execution_count": 57,
   "metadata": {
    "collapsed": true
   },
   "outputs": [],
   "source": [
    "english_text = u\"\"\"The Kendall tau distance is a metric that counts the number of\n",
    "pairwise disagreements between two lists. The larger the distance,\n",
    "the more dissimilar the two lists are. Kendall tau distance is also\n",
    "called bubble-sort distance since it is equivalent to the number of\n",
    "swaps that the bubble sort algorithm would make to place one list in\n",
    "the same order as the other list. The Kendall tau distance was\n",
    "created by Maurice Kendall.\"\"\"\n",
    "\n",
    "spanish_text = u\"\"\"Proclama\n",
    "la presente Declaración Universal de Derechos Humanos como ideal común\n",
    "por el que todos los pueblos y naciones deben esforzarse, a fin de que\n",
    "tanto los individuos como las instituciones, inspirándose\n",
    "constantemente en ella, promuevan, mediante la enseñanza y la\n",
    "educación, el respeto a estos derechos y libertades, y aseguren, por\n",
    "medidas progresivas de carácter nacional e internacional, su\n",
    "reconocimiento y aplicación universales y efectivos, tanto entre los\n",
    "pueblos de los Estados Miembros como entre los de los territorios\n",
    "colocados bajo su jurisdicción. \"\"\"\n",
    "\n",
    "chinese_text = u\"\"\"因 此 现 在, 大 会, 发 布 这 一 世 界 人 权 宣 言\n",
    ", 作 为 所 有 人 民 和 所 有 国 家 努 力 实 现 的 共 同 标 准, 以 期 每 一 个 人 和 社 会 机 构 经 常 铭\n",
    "念 本 宣 言, 努 力 通 过 教 诲 和 教 育 促 进 对 权 利 和 自 由 的 尊 重, 并 通 过 国 家 的 和 国 际 的 渐\n",
    "进 措 施, 使 这 些 权 利 和 自 由 在 各 会 员 国 本 身 人 民 及 在 其 管 辖 下 领 土 的 人 民 中 得 到 普\n",
    "遍 和 有 效 的 承 认 和 遵 行\"\"\"\n",
    "\n",
    "dante_text = u\"\"\"Nel mezzo del cammin di nostra vita\n",
    "mi ritrovai per una selva oscura\n",
    "che la diritta via era smarrita.\n",
    "Ahi quanto a dir qual era e cosa dura\n",
    "esta selva selvaggia e aspra e forte\n",
    "che nel pensier rinova la paura!\n",
    "Tant'e amara che poco e piu morte;\n",
    "ma per trattar del ben ch'i' vi trovai,\n",
    "diro de l'altre cose ch'i' v'ho scorte.\n",
    "Io non so ben ridir com'i' v'intrai,\n",
    "tant'era pien di sonno a quel punto\n",
    "che la verace via abbandonai.\"\"\""
   ]
  },
  {
   "cell_type": "code",
   "execution_count": 67,
   "metadata": {
    "collapsed": false
   },
   "outputs": [
    {
     "name": "stdout",
     "output_type": "stream",
     "text": [
      "Chinese_Mandarin-GB2312\n"
     ]
    }
   ],
   "source": [
    "print guess(chinese_text)"
   ]
  },
  {
   "cell_type": "code",
   "execution_count": 59,
   "metadata": {
    "collapsed": false
   },
   "outputs": [],
   "source": [
    "import urllib2\n",
    "from BeautifulSoup import BeautifulSoup, BeautifulStoneSoup"
   ]
  },
  {
   "cell_type": "code",
   "execution_count": 74,
   "metadata": {
    "collapsed": false
   },
   "outputs": [
    {
     "name": "stdout",
     "output_type": "stream",
     "text": [
      "Italian-Latin1\n"
     ]
    },
    {
     "name": "stderr",
     "output_type": "stream",
     "text": [
      "/Users/dreamind/anaconda/lib/python2.7/site-packages/ipykernel/__main__.py:6: UnicodeWarning: Unicode equal comparison failed to convert both arguments to Unicode - interpreting them as being unequal\n"
     ]
    }
   ],
   "source": [
    "url = 'http://it.wikipedia.org/wiki/Monica_Bellucci'\n",
    "\n",
    "def get_text(url):\n",
    "    content = urllib2.urlopen(url)\n",
    "    soup = BeautifulSoup(content, convertEntities=BeautifulStoneSoup.HTML_ENTITIES) \n",
    "    body = soup.find('body')        \n",
    "    text = [t for p in body.findAll('p') for t in p.findAll(text=True)]\n",
    "    return \" \".join(text)\n",
    "\n",
    "print guess(get_text(url))"
   ]
  },
  {
   "cell_type": "code",
   "execution_count": 75,
   "metadata": {
    "collapsed": false
   },
   "outputs": [
    {
     "name": "stdout",
     "output_type": "stream",
     "text": [
      "Italian-Latin1\n",
      "Spanish-Latin1\n",
      "Ukrainian-UTF8\n",
      "Chinese_Mandarin-GB2312\n",
      "English-Latin1\n"
     ]
    },
    {
     "name": "stderr",
     "output_type": "stream",
     "text": [
      "/Users/dreamind/anaconda/lib/python2.7/site-packages/ipykernel/__main__.py:6: UnicodeWarning: Unicode equal comparison failed to convert both arguments to Unicode - interpreting them as being unequal\n"
     ]
    }
   ],
   "source": [
    "urls = [\n",
    "    'http://it.wikipedia.org/wiki/Monica_Bellucci',\n",
    "    'http://es.wikipedia.org/wiki/Pen%C3%A9lope_Cruz',\n",
    "    'http://uk.wikipedia.org/wiki/%D0%9A%D1%83%D1%80%D0%B8%D0%BB%D0%B5%D0%BD%D0%BA%D0%BE_%D0%9E%D0%BB%D1%8C%D0%B3%D0%B0_%D0%9A%D0%BE%D1%81%D1%82%D1%8F%D0%BD%D1%82%D0%B8%D0%BD%D1%96%D0%B2%D0%BD%D0%B0',\n",
    "    'http://zh.wikipedia.org/wiki/%E7%AB%A0%E5%AD%90%E6%80%A1',\n",
    "    'http://en.wikipedia.org/wiki/Megan_Fox' ]\n",
    "\n",
    "for url in urls:\n",
    "    print guess(get_text(url))"
   ]
  },
  {
   "cell_type": "code",
   "execution_count": null,
   "metadata": {
    "collapsed": true
   },
   "outputs": [],
   "source": []
  }
 ],
 "metadata": {
  "kernelspec": {
   "display_name": "Python 2",
   "language": "python",
   "name": "python2"
  },
  "language_info": {
   "codemirror_mode": {
    "name": "ipython",
    "version": 2
   },
   "file_extension": ".py",
   "mimetype": "text/x-python",
   "name": "python",
   "nbconvert_exporter": "python",
   "pygments_lexer": "ipython2",
   "version": "2.7.11"
  }
 },
 "nbformat": 4,
 "nbformat_minor": 0
}
